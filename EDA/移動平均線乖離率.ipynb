{
 "cells": [
  {
   "cell_type": "markdown",
   "metadata": {},
   "source": [
    "<!-- サンチャゴの大暴落で勝つから引用 -->\n",
    "<!-- 移動平均線からの乖離が大きい銘柄に対してエントリー -->"
   ]
  },
  {
   "cell_type": "code",
   "execution_count": 1,
   "metadata": {},
   "outputs": [],
   "source": [
    "import pandas as pd\n",
    "import numpy as np\n",
    "import os\n",
    "import sys\n",
    "sys.path.append(\"../\")\n",
    "from common.evaluate.evaluate import evaluation_index\n",
    "import codecs\n",
    "from joblib import Parallel, delayed\n",
    "import pandas_datareader.data as web\n",
    "import tqdm\n",
    "import matplotlib.pyplot as plt\n",
    "import pandas as pd\n",
    "import mplfinance as mpf\n"
   ]
  },
  {
   "cell_type": "code",
   "execution_count": 2,
   "metadata": {},
   "outputs": [],
   "source": [
    "\n",
    "# # 日経平均株価を取得する\n",
    "# nikkei = web.DataReader(\"NIKKEI225\", \"fred\", \"2017/01/04\")\n",
    "# for sma in [5,25,45,75]:\n",
    "#     nikkei[f\"sma{sma}\"] = nikkei['NIKKEI225'].rolling(sma).mean()\n",
    "#     nikkei[f'sma_close_ratio_{sma}'] = (nikkei['NIKKEI225'] / nikkei[f\"sma{sma}\"] - 1) * 100\n",
    "# display(nikkei)"
   ]
  },
  {
   "cell_type": "code",
   "execution_count": 3,
   "metadata": {},
   "outputs": [
    {
     "data": {
      "text/html": [
       "<div>\n",
       "<style scoped>\n",
       "    .dataframe tbody tr th:only-of-type {\n",
       "        vertical-align: middle;\n",
       "    }\n",
       "\n",
       "    .dataframe tbody tr th {\n",
       "        vertical-align: top;\n",
       "    }\n",
       "\n",
       "    .dataframe thead th {\n",
       "        text-align: right;\n",
       "    }\n",
       "</style>\n",
       "<table border=\"1\" class=\"dataframe\">\n",
       "  <thead>\n",
       "    <tr style=\"text-align: right;\">\n",
       "      <th></th>\n",
       "      <th>銘柄名</th>\n",
       "      <th>コード</th>\n",
       "      <th>業種</th>\n",
       "      <th>TOPIXに占める個別銘柄のウェイト</th>\n",
       "      <th>ニューインデックス区分</th>\n",
       "      <th>調整係数対象銘柄</th>\n",
       "    </tr>\n",
       "    <tr>\n",
       "      <th>日付</th>\n",
       "      <th></th>\n",
       "      <th></th>\n",
       "      <th></th>\n",
       "      <th></th>\n",
       "      <th></th>\n",
       "      <th></th>\n",
       "    </tr>\n",
       "  </thead>\n",
       "  <tbody>\n",
       "    <tr>\n",
       "      <th>20220331</th>\n",
       "      <td>トヨタ自</td>\n",
       "      <td>7203.0</td>\n",
       "      <td>輸送用機器</td>\n",
       "      <td>4.23%</td>\n",
       "      <td>TOPIX Core30</td>\n",
       "      <td>NaN</td>\n",
       "    </tr>\n",
       "    <tr>\n",
       "      <th>20220331</th>\n",
       "      <td>ソニーグループ</td>\n",
       "      <td>6758.0</td>\n",
       "      <td>電気機器</td>\n",
       "      <td>3.00%</td>\n",
       "      <td>TOPIX Core30</td>\n",
       "      <td>NaN</td>\n",
       "    </tr>\n",
       "    <tr>\n",
       "      <th>20220331</th>\n",
       "      <td>キーエンス</td>\n",
       "      <td>6861.0</td>\n",
       "      <td>電気機器</td>\n",
       "      <td>1.95%</td>\n",
       "      <td>TOPIX Core30</td>\n",
       "      <td>NaN</td>\n",
       "    </tr>\n",
       "    <tr>\n",
       "      <th>20220331</th>\n",
       "      <td>三菱ＵＦＪ</td>\n",
       "      <td>8306.0</td>\n",
       "      <td>銀行業</td>\n",
       "      <td>1.77%</td>\n",
       "      <td>TOPIX Core30</td>\n",
       "      <td>NaN</td>\n",
       "    </tr>\n",
       "    <tr>\n",
       "      <th>20220331</th>\n",
       "      <td>東エレク</td>\n",
       "      <td>8035.0</td>\n",
       "      <td>電気機器</td>\n",
       "      <td>1.51%</td>\n",
       "      <td>TOPIX Core30</td>\n",
       "      <td>NaN</td>\n",
       "    </tr>\n",
       "    <tr>\n",
       "      <th>...</th>\n",
       "      <td>...</td>\n",
       "      <td>...</td>\n",
       "      <td>...</td>\n",
       "      <td>...</td>\n",
       "      <td>...</td>\n",
       "      <td>...</td>\n",
       "    </tr>\n",
       "    <tr>\n",
       "      <th>NaN</th>\n",
       "      <td>NaN</td>\n",
       "      <td>NaN</td>\n",
       "      <td>NaN</td>\n",
       "      <td>NaN</td>\n",
       "      <td>NaN</td>\n",
       "      <td>NaN</td>\n",
       "    </tr>\n",
       "    <tr>\n",
       "      <th>NaN</th>\n",
       "      <td>NaN</td>\n",
       "      <td>NaN</td>\n",
       "      <td>NaN</td>\n",
       "      <td>NaN</td>\n",
       "      <td>NaN</td>\n",
       "      <td>NaN</td>\n",
       "    </tr>\n",
       "    <tr>\n",
       "      <th>NaN</th>\n",
       "      <td>NaN</td>\n",
       "      <td>NaN</td>\n",
       "      <td>NaN</td>\n",
       "      <td>NaN</td>\n",
       "      <td>NaN</td>\n",
       "      <td>NaN</td>\n",
       "    </tr>\n",
       "    <tr>\n",
       "      <th>NaN</th>\n",
       "      <td>NaN</td>\n",
       "      <td>NaN</td>\n",
       "      <td>NaN</td>\n",
       "      <td>NaN</td>\n",
       "      <td>NaN</td>\n",
       "      <td>NaN</td>\n",
       "    </tr>\n",
       "    <tr>\n",
       "      <th>NaN</th>\n",
       "      <td>NaN</td>\n",
       "      <td>NaN</td>\n",
       "      <td>NaN</td>\n",
       "      <td>NaN</td>\n",
       "      <td>NaN</td>\n",
       "      <td>NaN</td>\n",
       "    </tr>\n",
       "  </tbody>\n",
       "</table>\n",
       "<p>2190 rows × 6 columns</p>\n",
       "</div>"
      ],
      "text/plain": [
       "              銘柄名     コード     業種 TOPIXに占める個別銘柄のウェイト   ニューインデックス区分 調整係数対象銘柄\n",
       "日付                                                                        \n",
       "20220331     トヨタ自  7203.0  輸送用機器              4.23%  TOPIX Core30      NaN\n",
       "20220331  ソニーグループ  6758.0   電気機器              3.00%  TOPIX Core30      NaN\n",
       "20220331    キーエンス  6861.0   電気機器              1.95%  TOPIX Core30      NaN\n",
       "20220331    三菱ＵＦＪ  8306.0    銀行業              1.77%  TOPIX Core30      NaN\n",
       "20220331     東エレク  8035.0   電気機器              1.51%  TOPIX Core30      NaN\n",
       "...           ...     ...    ...                ...           ...      ...\n",
       "NaN           NaN     NaN    NaN                NaN           NaN      NaN\n",
       "NaN           NaN     NaN    NaN                NaN           NaN      NaN\n",
       "NaN           NaN     NaN    NaN                NaN           NaN      NaN\n",
       "NaN           NaN     NaN    NaN                NaN           NaN      NaN\n",
       "NaN           NaN     NaN    NaN                NaN           NaN      NaN\n",
       "\n",
       "[2190 rows x 6 columns]"
      ]
     },
     "metadata": {},
     "output_type": "display_data"
    },
    {
     "name": "stdout",
     "output_type": "stream",
     "text": [
      "['トヨタ自', 'ソニーグループ', 'キーエンス', '三菱ＵＦＪ', '東エレク', 'リクルートＨＤ', 'ＮＴＴ', '任天堂', '三菱商事', 'ソフトバンクグループ', '信越化', '日立', 'ＫＤＤＩ', '伊藤忠', 'ダイキン工', 'ホンダ', '武田薬', 'ＨＯＹＡ', 'ＯＬＣ', '三井住友', '三井物産', '日本電産', '村田製', '東京海上', '７＆ｉＨＤ', 'ソフトバンク', '第一三共', 'ＳＭＣ', 'みずほ', 'ファナック', 'デンソー', 'アステラス薬', '富士通', 'キヤノン', 'オリックス', '三菱電', 'ブリヂス', '丸紅', '住友商', '富士フイルム', 'コマツ', 'ＪＲ東海', '中外薬', 'パナソニック', 'ＪＲ東', '第一生命ＨＤ', 'オリンパス', '三井不', '三菱地所', '資生堂', 'ＪＴ', 'シマノ', '花王', '日本郵政', 'クボタ', 'テルモ', 'アサヒ', 'イオン', '京セラ', 'スズキ', '塩野義薬', '日本製鉄', '大和ハウス', 'レーザーテック', 'ＳＯＭＰＯＨＤ', '大塚ＨＤ', 'ＭＳ＆ＡＤ', '郵船', 'ユニチャーム', 'バンダイナムコ', 'ファーストリテ', '東芝', 'セコム', '積水ハウス', 'Ｚホールディングス', 'ＮＲＩ', 'ルネサス', '野村', '味の素', '住友鉱', 'エムスリー', '三住トラスト', 'シスメックス', 'ＩＮＰＥＸ', 'アドバンテス', 'オムロン', 'ＥＮＥＯＳ', '住友不', '小野薬', 'エーザイ', '豊田織', '旭化成', 'キリンＨＤ', 'ＮＥＣ', 'ＮＴＴデータ', 'ＴＤＫ', '三菱重', 'ネクソン', '日産自', 'ＪＲ西', 'ニトリＨＤ', 'ＡＮＡ', 'キッコマン', 'りそなＨＤ', 'ＪＰＸ', '島津製', 'オービック', 'ＳＵＢＡＲＵ', '日東電', '住友電工', '商船三井', '三菱ケミＨＤ', 'いすゞ自', 'ＪＡＬ', '豊田通商', 'ディスコ', '大和証Ｇ', '電通グループ', '安川電', 'ダイフク', '浜松ホトニク', 'ヤクルト', 'マキタ', '楽天グループ', 'ＪＦＥ', 'ＡＧＣ', 'ミネベアミツミ', '明治ＨＤ', '東レ', 'ミスミＧ', '東瓦斯', '関西電力', 'ＳＧホールディングス', '大東建', '阪急阪神', 'Ｔ＆ＤＨＤ', 'ローム', 'パンパシフィックＨＤ', '東急', '日ペイントＨＤ', '中部電力', '住友化', '出光興産', '大瓦斯', 'ヤマハ発', 'ＳＢＩ', '富士電機', '積水化', '日産化', 'サイバーエージェント', 'トレンド', '大日印', '協和キリン', 'ＴＯＴＯ', 'ＬＩＸＩＬ', '日清食ＨＤ', '鹿島', 'ＳＵＭＣＯ', 'ＪＳＲ', '凸版印', '近鉄ＧＨＤ', 'ヤマハ', 'ＭＲＯ', 'サントリーＢＦ', 'イビデン', '大成建', 'アイシン', 'マツダ', '大林組', 'ベイカレント', '東電力ＨＤ', 'リコー', '東武', 'ヤマトＨＤ', '小田急', '神戸物産', '東宝', '三井化学', 'ヒューリック', '小林製薬', 'ブラザー', 'マツキヨココカラ', '荏原製', 'ＮＸＨＤ', 'ＴＩＳ', 'コナミ\\u3000ＨＤ', '太陽誘電', '日本Ｍ＆Ａ', 'コンコルディアＦＧ', '東ソー', 'パーソルＨＤ', '小糸製', 'カプコン', 'アサヒインテック', 'ヒロセ電', '京王', 'ホシザキ', '参天薬', '栗田工', '千葉銀', 'ＧＭＯＰＧ', 'エプソン', '川崎船', 'アズビル', '王子ＨＤ', 'ゆうちょ銀行', '京成', 'スクエニＨＤ', 'コーセー', '大塚商会', 'セガサミーＨＤ', '日立金', 'アシックス', '双日', '日空ビル', '東洋水産', '昭電工', '関ペイント', 'ＵＳＳ', 'かんぽ生命保険', '三菱ＨＣキャピタル', '清水建', '静岡銀', '日本新薬', 'メディパル', 'ニコン', '日本酸素ＨＤ', 'すかいらーくＨＤ', '博報堂ＤＹ', 'スクリン', 'ＺＯＺＯ', '横河電', '丸井Ｇ', 'ナブテスコ', '東急不ＨＤ', 'アルフレッサＨＤ', 'ロート薬', 'Ｆ＆ＬＣ', '京都銀', 'ふくおか', 'テクノプロＨＤ', 'ＩＨＩ', '菱瓦斯化', '日本ガイシ', '伊藤園', '日清粉Ｇ', '東建物', 'ＪＲ九州', 'カカクコム', '住友林', 'スタンレー電', '川崎重', 'ツルハＨＤ', 'アマダ', 'ウエルシアＨＤ', 'ＡＬＳＯＫ', '京急', '東北電力', 'クラレ', '野村不ＨＤ', 'リンナイ', '良品計画', 'Ｊパワー', 'ＫＡＤＯＫＡＷＡ', '光通信', 'エア・ウォーター', '住友重', '日特殊陶', 'ミツコシイセタン', '新光電工', 'ライオン', 'オープンハウスＧ', 'コスモス薬品', '日油', 'ＴＨＫ', '西武ホールディングス', '名鉄', '日ハム', '九州電力', 'ＤＯＷＡ', 'ゼンショーＨＤ', 'ＳＣＳＫ', '日立建機', 'ＣＴＣ', 'あおぞら', '新生銀', '東邦瓦斯', '大正薬ＨＤ', '京阪ＨＤ', 'インフロニアＨＤ', '日ゼオン', 'しまむら', 'シャープ', '長谷工', 'アルバック', '三菱マ', '日電子', '三井ハイテク', 'キユーピー', '日本光電', 'ピジョン', 'ヤマダＨＤ', '日立物流', '三菱自', '堀場製', '中国電力', '三浦工', '日本オラクル', '帝人', 'ＡＤＥＫＡ', 'スズケン', '日本精工', '日揮ＨＤ', 'コーエーテクモ', 'デンカ', '岩谷産', 'めぶきＦＧ', '長瀬産', 'コニカミノルタ', 'ファンケル', 'アンリツ', 'ペプチドリーム', '山九', 'カシオ計', 'ＧＭＯ', 'サワイグループＨＤ', 'ダイセル', 'ゴルドウイン', 'メニコン', 'ウシオ電', 'フジテック', '日ユニシス', 'ツムラ', '東応化', 'エクシオグループ', 'アルプスアルパイン', '三和ＨＤ', '南海電鉄', 'ＴＢＳＨＤ', 'ニフコ', '久光薬', 'コムシスＨＤ', 'ネットワン', '森永乳', 'アズワン', 'コカ・コーラＢＪＨ', 'カルビー', '上組', 'ニチレイ', 'カゴメ', 'ハウス食Ｇ', 'パーク２４', '日電硝', 'ローソン', '日製鋼所', 'ひろぎんＨＤ', 'ＩＩＪ', 'フジＨＤ', 'ＳＭＳ', '太平洋セメ', 'サンドラッグ', '神戸鋼', '山崎パン', '東海カーボ', 'ＳＨＩＦＴ', 'グリコ', '全国保証', 'ＤＭＧ森精機', '戸田建', 'ケーズＨＤ', 'ショーボンド', 'Ｊフロント', '日テレＨＤ', 'スギＨＤ', '浜ゴム', 'ＤＩＣ', 'リログループ', 'ＦＵＪＩ', 'きんでん', '住友ゴム', 'マネーフォワード', 'コクヨ', 'ＯＳＧ', 'ニッパツ', 'レンゴー', 'ＮＳＤ', 'リゾートトラ', '西松建', 'デジタルガレージ', '西鉄', '東精密', '大王紙', 'ジャストシステム', 'ガンホー', 'ベネッセＨＤ', 'パイロット', 'クレハ', 'コロワイド', 'トプコン', 'ダイセキ', 'セイノーＨＤ', 'クスリのアオキＨＤ', '九州ＦＧ', '吉野家ＨＤ', '日野自', '三菱倉', '住友倉', 'ＨＵグループＨＤ', '日水', '古河電工', 'ダイワボＨＤ', '三井金', 'コスモエネルギーＨＤ', '高島屋', 'ミライトＨＤ', 'ワコム', '丸一鋼管', '日瓦斯', '大和工', 'トヨタ紡織', '宇部興', 'アイカ工', '八十二銀', '住友ベーク', 'デクセリアルズ', 'カチタス', '伊予銀', 'クレセゾン', 'ミルボン', 'イオンモール', '中国銀', 'ＴＯＹＯ\\u3000ＴＩＲＥ', '日化薬', 'ヤオコー', 'ＧＳユアサ', '平和不', '松竹', 'ＳＡＮＫＹＯ', '大日住薬', 'マブチモーター', 'インフォマート', 'サッポロＨＤ', 'フジクラ', '宝ＨＬＤ', '芙蓉リース', '山口ＦＧ', '東京センチュリー', 'アインＨＤ', 'サンリオ', 'ポーラオルＨＤ', 'メイテック', '相鉄ＨＤ', '共立メンテ', '日触媒', '五洋建', 'ニプロ', '四国電力', 'ベネ・ワン', 'アウトソシング', 'ジェイテクト', 'カネカ', '九電工', 'ディーエヌエー', '洋缶ＨＤ', '森永菓', 'アサヒＨＤ', 'セブン銀行', 'ジャフコ\\u3000グループ', 'ＡＢＣマート', 'Ｓａｎｓａｎ', '東芝テック', 'グローリー', 'ＮＴＮ', 'Ｈ．Ｉ．Ｓ．', 'アマノ', '北越コーポレーション', 'ＪＥＳＨＤ', '日本紙', '夢真ビーネックスＧ', '扶桑化学', 'ＮＯＫ', '西日本ＦＨ', 'ダスキン', '竹内製作所', '東映', '明電舎', '大気社', 'ラクス', 'ＪＭＤＣ', 'ダイヘン', '北海電力', 'ＪＣＲファーマ', 'タダノ', 'ＴＫＣ', '日パーカライ', 'ニップン', '椿本チエイン', '日曹達', '北陸電力', 'トクヤマ']\n"
     ]
    }
   ],
   "source": [
    "topix_code = pd.read_csv('../data/stock_code/TOPIX_weight_jp.csv',index_col=0)\n",
    "topix_code = topix_code.sort_values('TOPIXに占める個別銘柄のウェイト',ascending=False)\n",
    "display(topix_code)\n",
    "\n",
    "topix_code = topix_code['銘柄名'].values.tolist()\n",
    "\n",
    "number_of_stocks = 500\n",
    "print(topix_code[:number_of_stocks])"
   ]
  },
  {
   "cell_type": "code",
   "execution_count": 4,
   "metadata": {},
   "outputs": [],
   "source": [
    "candle_data_path = \"../data/candle_data/TOPIX\"\n",
    "os.makedirs(candle_data_path, exist_ok=True)"
   ]
  },
  {
   "cell_type": "code",
   "execution_count": 5,
   "metadata": {},
   "outputs": [],
   "source": [
    "\n",
    "# files = os.listdir('../data/raw_data/candle_data/TOPIX/')\n",
    "# print(len(files))\n",
    "# for file in topix_code[:number_of_stocks]:\n",
    "#     # try:\n",
    "#     data = pd.read_csv('../data/raw_data/candle_data/TOPIX/'+file + '.csv',index_col=0)\n",
    "#     # print(data.iloc[0])\n",
    "#     print(file)\n",
    "#     data = data.rename(columns={'Open': 'open', 'High': 'high','Low': 'low','Close': 'cl','Adj Close':'close','Volume': 'volume'})\n",
    "#     # display(data)\n",
    "#     data['code'] = file\n",
    "\n",
    "#     data['price'] = data['close'].shift(-1) \n",
    "#     for sma in [5, 25]:\n",
    "#         data[f\"sma{sma}\"] = data['close'].rolling(sma).mean()\n",
    "#         data[f\"sma_tilt{sma}\"] = data[f\"sma{sma}\"] / data[f\"sma{sma}\"].shift(1) - 1\n",
    "#         data[f'sma_close_ratio_{sma}'] = (data['close'] / data[f\"sma{sma}\"] - 1) * 100\n",
    "#     data.to_csv(candle_data_path+'/'+file + '.csv')\n",
    "#     # except:\n",
    "#     #     continue\n"
   ]
  },
  {
   "cell_type": "code",
   "execution_count": 6,
   "metadata": {},
   "outputs": [
    {
     "data": {
      "text/html": [
       "<div>\n",
       "<style scoped>\n",
       "    .dataframe tbody tr th:only-of-type {\n",
       "        vertical-align: middle;\n",
       "    }\n",
       "\n",
       "    .dataframe tbody tr th {\n",
       "        vertical-align: top;\n",
       "    }\n",
       "\n",
       "    .dataframe thead th {\n",
       "        text-align: right;\n",
       "    }\n",
       "</style>\n",
       "<table border=\"1\" class=\"dataframe\">\n",
       "  <thead>\n",
       "    <tr style=\"text-align: right;\">\n",
       "      <th></th>\n",
       "      <th>high</th>\n",
       "      <th>low</th>\n",
       "      <th>open</th>\n",
       "      <th>cl</th>\n",
       "      <th>volume</th>\n",
       "      <th>close</th>\n",
       "      <th>code</th>\n",
       "      <th>price</th>\n",
       "      <th>sma5</th>\n",
       "      <th>sma_tilt5</th>\n",
       "      <th>sma_close_ratio_5</th>\n",
       "      <th>sma25</th>\n",
       "      <th>sma_tilt25</th>\n",
       "      <th>sma_close_ratio_25</th>\n",
       "    </tr>\n",
       "    <tr>\n",
       "      <th>Date</th>\n",
       "      <th></th>\n",
       "      <th></th>\n",
       "      <th></th>\n",
       "      <th></th>\n",
       "      <th></th>\n",
       "      <th></th>\n",
       "      <th></th>\n",
       "      <th></th>\n",
       "      <th></th>\n",
       "      <th></th>\n",
       "      <th></th>\n",
       "      <th></th>\n",
       "      <th></th>\n",
       "      <th></th>\n",
       "    </tr>\n",
       "  </thead>\n",
       "  <tbody>\n",
       "    <tr>\n",
       "      <th>2020-01-06</th>\n",
       "      <td>1525.199951</td>\n",
       "      <td>1506.000000</td>\n",
       "      <td>1519.800049</td>\n",
       "      <td>1513.000000</td>\n",
       "      <td>33361500.0</td>\n",
       "      <td>1269.066284</td>\n",
       "      <td>トヨタ自</td>\n",
       "      <td>1294.229492</td>\n",
       "      <td>1288.794189</td>\n",
       "      <td>-0.004561</td>\n",
       "      <td>-1.530726</td>\n",
       "      <td>1296.041182</td>\n",
       "      <td>-0.000740</td>\n",
       "      <td>-2.081330</td>\n",
       "    </tr>\n",
       "    <tr>\n",
       "      <th>2020-01-07</th>\n",
       "      <td>1544.400024</td>\n",
       "      <td>1523.800049</td>\n",
       "      <td>1530.800049</td>\n",
       "      <td>1543.000000</td>\n",
       "      <td>24803500.0</td>\n",
       "      <td>1294.229492</td>\n",
       "      <td>トヨタ自</td>\n",
       "      <td>1277.789429</td>\n",
       "      <td>1290.102686</td>\n",
       "      <td>0.001015</td>\n",
       "      <td>0.319882</td>\n",
       "      <td>1296.208940</td>\n",
       "      <td>0.000129</td>\n",
       "      <td>-0.152711</td>\n",
       "    </tr>\n",
       "    <tr>\n",
       "      <th>2020-01-08</th>\n",
       "      <td>1528.400024</td>\n",
       "      <td>1508.199951</td>\n",
       "      <td>1513.000000</td>\n",
       "      <td>1523.400024</td>\n",
       "      <td>28061000.0</td>\n",
       "      <td>1277.789429</td>\n",
       "      <td>トヨタ自</td>\n",
       "      <td>1286.680542</td>\n",
       "      <td>1286.479175</td>\n",
       "      <td>-0.002809</td>\n",
       "      <td>-0.675467</td>\n",
       "      <td>1295.490947</td>\n",
       "      <td>-0.000554</td>\n",
       "      <td>-1.366395</td>\n",
       "    </tr>\n",
       "    <tr>\n",
       "      <th>2020-01-09</th>\n",
       "      <td>1538.000000</td>\n",
       "      <td>1527.599976</td>\n",
       "      <td>1534.400024</td>\n",
       "      <td>1534.000000</td>\n",
       "      <td>21265000.0</td>\n",
       "      <td>1286.680542</td>\n",
       "      <td>トヨタ自</td>\n",
       "      <td>1285.170654</td>\n",
       "      <td>1284.365479</td>\n",
       "      <td>-0.001643</td>\n",
       "      <td>0.180250</td>\n",
       "      <td>1295.705679</td>\n",
       "      <td>0.000166</td>\n",
       "      <td>-0.696542</td>\n",
       "    </tr>\n",
       "    <tr>\n",
       "      <th>2020-01-10</th>\n",
       "      <td>1539.599976</td>\n",
       "      <td>1530.199951</td>\n",
       "      <td>1539.000000</td>\n",
       "      <td>1532.199951</td>\n",
       "      <td>17417000.0</td>\n",
       "      <td>1285.170654</td>\n",
       "      <td>トヨタ自</td>\n",
       "      <td>1298.255615</td>\n",
       "      <td>1282.587280</td>\n",
       "      <td>-0.001384</td>\n",
       "      <td>0.201419</td>\n",
       "      <td>1295.188994</td>\n",
       "      <td>-0.000399</td>\n",
       "      <td>-0.773504</td>\n",
       "    </tr>\n",
       "    <tr>\n",
       "      <th>...</th>\n",
       "      <td>...</td>\n",
       "      <td>...</td>\n",
       "      <td>...</td>\n",
       "      <td>...</td>\n",
       "      <td>...</td>\n",
       "      <td>...</td>\n",
       "      <td>...</td>\n",
       "      <td>...</td>\n",
       "      <td>...</td>\n",
       "      <td>...</td>\n",
       "      <td>...</td>\n",
       "      <td>...</td>\n",
       "      <td>...</td>\n",
       "      <td>...</td>\n",
       "    </tr>\n",
       "    <tr>\n",
       "      <th>2022-05-11</th>\n",
       "      <td>2210.000000</td>\n",
       "      <td>2050.500000</td>\n",
       "      <td>2205.500000</td>\n",
       "      <td>2082.000000</td>\n",
       "      <td>64821200.0</td>\n",
       "      <td>2082.000000</td>\n",
       "      <td>トヨタ自</td>\n",
       "      <td>2050.000000</td>\n",
       "      <td>2201.900000</td>\n",
       "      <td>-0.013751</td>\n",
       "      <td>-5.445297</td>\n",
       "      <td>2180.020000</td>\n",
       "      <td>-0.002571</td>\n",
       "      <td>-4.496289</td>\n",
       "    </tr>\n",
       "    <tr>\n",
       "      <th>2022-05-12</th>\n",
       "      <td>2114.500000</td>\n",
       "      <td>2011.500000</td>\n",
       "      <td>2050.000000</td>\n",
       "      <td>2050.000000</td>\n",
       "      <td>44104700.0</td>\n",
       "      <td>2050.000000</td>\n",
       "      <td>トヨタ自</td>\n",
       "      <td>2055.000000</td>\n",
       "      <td>2166.300000</td>\n",
       "      <td>-0.016168</td>\n",
       "      <td>-5.368601</td>\n",
       "      <td>2173.820000</td>\n",
       "      <td>-0.002844</td>\n",
       "      <td>-5.695964</td>\n",
       "    </tr>\n",
       "    <tr>\n",
       "      <th>2022-05-13</th>\n",
       "      <td>2086.500000</td>\n",
       "      <td>2028.500000</td>\n",
       "      <td>2043.000000</td>\n",
       "      <td>2055.000000</td>\n",
       "      <td>31138400.0</td>\n",
       "      <td>2055.000000</td>\n",
       "      <td>トヨタ自</td>\n",
       "      <td>2049.500000</td>\n",
       "      <td>2122.100000</td>\n",
       "      <td>-0.020403</td>\n",
       "      <td>-3.161962</td>\n",
       "      <td>2167.580000</td>\n",
       "      <td>-0.002871</td>\n",
       "      <td>-5.193811</td>\n",
       "    </tr>\n",
       "    <tr>\n",
       "      <th>2022-05-16</th>\n",
       "      <td>2107.000000</td>\n",
       "      <td>2047.000000</td>\n",
       "      <td>2105.000000</td>\n",
       "      <td>2049.500000</td>\n",
       "      <td>26352900.0</td>\n",
       "      <td>2049.500000</td>\n",
       "      <td>トヨタ自</td>\n",
       "      <td>2033.000000</td>\n",
       "      <td>2083.000000</td>\n",
       "      <td>-0.018425</td>\n",
       "      <td>-1.608257</td>\n",
       "      <td>2160.860000</td>\n",
       "      <td>-0.003100</td>\n",
       "      <td>-5.153504</td>\n",
       "    </tr>\n",
       "    <tr>\n",
       "      <th>2022-05-17</th>\n",
       "      <td>2047.000000</td>\n",
       "      <td>2016.500000</td>\n",
       "      <td>2025.500000</td>\n",
       "      <td>2033.000000</td>\n",
       "      <td>22474100.0</td>\n",
       "      <td>2033.000000</td>\n",
       "      <td>トヨタ自</td>\n",
       "      <td>NaN</td>\n",
       "      <td>2053.900000</td>\n",
       "      <td>-0.013970</td>\n",
       "      <td>-1.017576</td>\n",
       "      <td>2154.580000</td>\n",
       "      <td>-0.002906</td>\n",
       "      <td>-5.642863</td>\n",
       "    </tr>\n",
       "  </tbody>\n",
       "</table>\n",
       "<p>575 rows × 14 columns</p>\n",
       "</div>"
      ],
      "text/plain": [
       "                   high          low         open           cl      volume  \\\n",
       "Date                                                                         \n",
       "2020-01-06  1525.199951  1506.000000  1519.800049  1513.000000  33361500.0   \n",
       "2020-01-07  1544.400024  1523.800049  1530.800049  1543.000000  24803500.0   \n",
       "2020-01-08  1528.400024  1508.199951  1513.000000  1523.400024  28061000.0   \n",
       "2020-01-09  1538.000000  1527.599976  1534.400024  1534.000000  21265000.0   \n",
       "2020-01-10  1539.599976  1530.199951  1539.000000  1532.199951  17417000.0   \n",
       "...                 ...          ...          ...          ...         ...   \n",
       "2022-05-11  2210.000000  2050.500000  2205.500000  2082.000000  64821200.0   \n",
       "2022-05-12  2114.500000  2011.500000  2050.000000  2050.000000  44104700.0   \n",
       "2022-05-13  2086.500000  2028.500000  2043.000000  2055.000000  31138400.0   \n",
       "2022-05-16  2107.000000  2047.000000  2105.000000  2049.500000  26352900.0   \n",
       "2022-05-17  2047.000000  2016.500000  2025.500000  2033.000000  22474100.0   \n",
       "\n",
       "                  close  code        price         sma5  sma_tilt5  \\\n",
       "Date                                                                 \n",
       "2020-01-06  1269.066284  トヨタ自  1294.229492  1288.794189  -0.004561   \n",
       "2020-01-07  1294.229492  トヨタ自  1277.789429  1290.102686   0.001015   \n",
       "2020-01-08  1277.789429  トヨタ自  1286.680542  1286.479175  -0.002809   \n",
       "2020-01-09  1286.680542  トヨタ自  1285.170654  1284.365479  -0.001643   \n",
       "2020-01-10  1285.170654  トヨタ自  1298.255615  1282.587280  -0.001384   \n",
       "...                 ...   ...          ...          ...        ...   \n",
       "2022-05-11  2082.000000  トヨタ自  2050.000000  2201.900000  -0.013751   \n",
       "2022-05-12  2050.000000  トヨタ自  2055.000000  2166.300000  -0.016168   \n",
       "2022-05-13  2055.000000  トヨタ自  2049.500000  2122.100000  -0.020403   \n",
       "2022-05-16  2049.500000  トヨタ自  2033.000000  2083.000000  -0.018425   \n",
       "2022-05-17  2033.000000  トヨタ自          NaN  2053.900000  -0.013970   \n",
       "\n",
       "            sma_close_ratio_5        sma25  sma_tilt25  sma_close_ratio_25  \n",
       "Date                                                                        \n",
       "2020-01-06          -1.530726  1296.041182   -0.000740           -2.081330  \n",
       "2020-01-07           0.319882  1296.208940    0.000129           -0.152711  \n",
       "2020-01-08          -0.675467  1295.490947   -0.000554           -1.366395  \n",
       "2020-01-09           0.180250  1295.705679    0.000166           -0.696542  \n",
       "2020-01-10           0.201419  1295.188994   -0.000399           -0.773504  \n",
       "...                       ...          ...         ...                 ...  \n",
       "2022-05-11          -5.445297  2180.020000   -0.002571           -4.496289  \n",
       "2022-05-12          -5.368601  2173.820000   -0.002844           -5.695964  \n",
       "2022-05-13          -3.161962  2167.580000   -0.002871           -5.193811  \n",
       "2022-05-16          -1.608257  2160.860000   -0.003100           -5.153504  \n",
       "2022-05-17          -1.017576  2154.580000   -0.002906           -5.642863  \n",
       "\n",
       "[575 rows x 14 columns]"
      ]
     },
     "metadata": {},
     "output_type": "display_data"
    }
   ],
   "source": [
    "code_name = 'トヨタ自'\n",
    "df = pd.read_csv(candle_data_path+'/'+code_name+'.csv',index_col = 0)\n",
    "df = df['2020-01-04':]\n",
    "display(df)"
   ]
  },
  {
   "cell_type": "code",
   "execution_count": 7,
   "metadata": {},
   "outputs": [],
   "source": [
    "def calcurate_prediction(date, sma, entry_threshold):   \n",
    "    sma_close_ratio_list = []\n",
    "    price_list = []\n",
    "    code_list = []\n",
    "    result = pd.DataFrame()\n",
    "    for file in topix_code[:number_of_stocks]:\n",
    "        data = pd.read_csv(candle_data_path+'/'+file + '.csv',index_col=0)\n",
    "        try:\n",
    "            data = data.loc[[date]]\n",
    "            result = pd.concat([result,data],axis=0)\n",
    "        except:\n",
    "            continue\n",
    "\n",
    "    # トレンドが上向きのみ抽出\n",
    "    result = result[result[f\"sma_tilt{sma}\"] > 0]\n",
    "    result = result.sort_values(f'sma_close_ratio_{sma}',ascending=True)\n",
    "\n",
    "    # 騰落率条件を満たす銘柄の数\n",
    "    # result_ = result[result[f'sma_close_ratio_{sma}'] >= -entry_threshold]\n",
    "    # display(result_)\n",
    "\n",
    "    if len(result) > 0:\n",
    "        return result.iloc[0]\n",
    "    else:\n",
    "        return None\n"
   ]
  },
  {
   "cell_type": "code",
   "execution_count": 8,
   "metadata": {},
   "outputs": [],
   "source": [
    "def backtest(df,exit_range,sma,entry_threshold):\n",
    "    entry_history = []\n",
    "    code = ''\n",
    "    df = df.rename(columns={'Open': 'open', 'High': 'high','Low': 'low','Close': 'close','Volume': 'volume'})\n",
    "    n = df['close'].values.size\n",
    "    y = df['close'].values.copy() * 0.0\n",
    "    poss = df['close'].values.copy() * 0.0\n",
    "    ret = 0.0\n",
    "    pos = 0.0\n",
    "    buy_entry_price = 1.0\n",
    "    sell_entry_price = 1.0\n",
    "    buy_entry_prices = np.full((n), np.nan)\n",
    "    sell_entry_prices = np.full((n), np.nan)\n",
    "    buy_exit_prices = np.full((n), np.nan)\n",
    "    sell_exit_prices = np.full((n), np.nan)\n",
    "    for i in tqdm.tqdm(range(len(df))):\n",
    "        prev_pos = pos\n",
    "        date = df.index[i]\n",
    "\n",
    "        # Exit of long\n",
    "        if prev_pos == 1 and (i - entry_date) >= exit_range:\n",
    "            data = pd.read_csv(candle_data_path+'/'+code + '.csv',index_col=0)\n",
    "            data = data.rename(columns={'Open': 'open', 'High': 'high','Low': 'low','Close': 'close','Volume': 'volume'})\n",
    "\n",
    "            data['price'] = data['close'].shift(-1) \n",
    "            sell_exit_price = data.loc[date,'price']\n",
    "            sell_exit_prices[i] = data.loc[date,'price']\n",
    "            ret += (sell_exit_price / buy_entry_price - 1)\n",
    "            pos -= 1\n",
    "            print(f'EXIT :date:{date}, code:{code}, sell_exit_price:{sell_exit_price}, return:{100 * round(sell_exit_price / buy_entry_price - 1,2)} %')\n",
    "\n",
    "\n",
    "        # entry\n",
    "        if prev_pos == 0:\n",
    "            result = calcurate_prediction(date, sma, entry_threshold)\n",
    "            if not result is None:\n",
    "                sma_close_ratio = result[f'sma_close_ratio_{sma}']\n",
    "\n",
    "                if sma_close_ratio <= entry_threshold:\n",
    "                    buy_entry_price = result['price']\n",
    "                    buy_entry_prices[i] = result['price']\n",
    "                    code = result['code']\n",
    "                    entry_date = i\n",
    "                    pos += 1\n",
    "                    print(f'ENTRY : date:{date}, code:{code}, buy_entry_price:{buy_entry_price}, sma_close_ratio:{sma_close_ratio}')\n",
    "                    entry_history.append([date, code, buy_entry_price])\n",
    "\n",
    "\n",
    "        y[i] = ret\n",
    "        poss[i] = pos\n",
    "\n",
    "    return y, poss, buy_entry_prices, sell_entry_prices, buy_exit_prices, sell_exit_prices, entry_history\n"
   ]
  },
  {
   "cell_type": "code",
   "execution_count": 9,
   "metadata": {},
   "outputs": [],
   "source": [
    "def plot_entry_history(df):\n",
    "    for i in range(len(df)):\n",
    "        date = df.iloc[i,df.columns.get_loc('date')]\n",
    "        code = df.iloc[i,df.columns.get_loc('code')]\n",
    "        buy_entry_price = df.iloc[i,df.columns.get_loc('buy_entry_price')]\n",
    "        print(code)\n",
    "        print(type(code))\n",
    "\n",
    "        data = pd.read_csv(candle_data_path+'/'+code + '.csv',index_col=0)\n",
    "        data = data.rename(columns={'Open': 'open', 'High': 'high','Low': 'low','Close': 'close','Volume': 'volume'})\n",
    "\n",
    "        data['predict_buy_entry'] = np.nan\n",
    "        data.loc[date,'predict_buy_entry'] = buy_entry_price\n",
    "        data = data.iloc[data.index.get_loc(date)-50:data.index.get_loc(date)+50]\n",
    "        data.index = pd.to_datetime(data.index)\n",
    "        \n",
    "\n",
    "        addplot_2s = mpf.make_addplot(data['predict_buy_entry'], type=\"scatter\", color=\"red\")\n",
    "        mckt_colors = mpf.make_marketcolors(up='red',down='blue',inherit=True)\n",
    "        styl  = mpf.make_mpf_style(base_mpl_style='seaborn',marketcolors=mckt_colors)\n",
    "        mpf.plot(data, type=\"candle\", style=styl, mav=(5,21), addplot=addplot_2s)\n",
    "\n",
    "    "
   ]
  },
  {
   "cell_type": "code",
   "execution_count": 12,
   "metadata": {},
   "outputs": [
    {
     "name": "stdout",
     "output_type": "stream",
     "text": [
      "==================\n",
      "exit_range:5, sma:25, entry_threshold:-5\n"
     ]
    },
    {
     "name": "stderr",
     "output_type": "stream",
     "text": [
      "  2%|▏         | 10/575 [00:24<22:15,  2.36s/it]"
     ]
    },
    {
     "name": "stdout",
     "output_type": "stream",
     "text": [
      "ENTRY : date:2020-01-20, code:マネーフォワード, buy_entry_price:2420.0, sma_close_ratio:-6.114922472934913\n",
      "EXIT :date:2020-01-27, code:マネーフォワード, sell_exit_price:2415.0, return:-0.0 %\n"
     ]
    },
    {
     "name": "stderr",
     "output_type": "stream",
     "text": [
      "  3%|▎         | 19/575 [00:33<14:26,  1.56s/it]"
     ]
    },
    {
     "name": "stdout",
     "output_type": "stream",
     "text": [
      "ENTRY : date:2020-01-31, code:Ｆ＆ＬＣ, buy_entry_price:2324.682861328125, sma_close_ratio:-5.099967515545433\n",
      "EXIT :date:2020-02-07, code:Ｆ＆ＬＣ, sell_exit_price:2356.866943359375, return:1.0 %\n"
     ]
    },
    {
     "name": "stderr",
     "output_type": "stream",
     "text": [
      "  5%|▌         | 31/575 [00:50<17:32,  1.94s/it]"
     ]
    },
    {
     "name": "stdout",
     "output_type": "stream",
     "text": [
      "ENTRY : date:2020-02-19, code:ＪＭＤＣ, buy_entry_price:2520.0, sma_close_ratio:-5.530039953698518\n",
      "EXIT :date:2020-02-27, code:ＪＭＤＣ, sell_exit_price:2212.5, return:-12.0 %\n"
     ]
    },
    {
     "name": "stderr",
     "output_type": "stream",
     "text": [
      "  6%|▋         | 37/575 [00:52<07:57,  1.13it/s]"
     ]
    },
    {
     "name": "stdout",
     "output_type": "stream",
     "text": [
      "ENTRY : date:2020-02-28, code:富士通, buy_entry_price:11054.658203125, sma_close_ratio:-6.433631486357106\n",
      "EXIT :date:2020-03-06, code:富士通, sell_exit_price:10311.201171875, return:-7.000000000000001 %\n"
     ]
    },
    {
     "name": "stderr",
     "output_type": "stream",
     "text": [
      "  7%|▋         | 43/575 [00:55<05:42,  1.55it/s]"
     ]
    },
    {
     "name": "stdout",
     "output_type": "stream",
     "text": [
      "ENTRY : date:2020-03-09, code:富士通, buy_entry_price:10354.935546875, sma_close_ratio:-11.939986026318016\n",
      "EXIT :date:2020-03-16, code:富士通, sell_exit_price:8783.47265625, return:-15.0 %\n"
     ]
    },
    {
     "name": "stderr",
     "output_type": "stream",
     "text": [
      "  9%|▊         | 49/575 [00:57<04:44,  1.85it/s]"
     ]
    },
    {
     "name": "stdout",
     "output_type": "stream",
     "text": [
      "ENTRY : date:2020-03-17, code:ネットワン, buy_entry_price:2028.6553955078125, sma_close_ratio:-5.658709614535318\n",
      "EXIT :date:2020-03-25, code:ネットワン, sell_exit_price:2018.0037841796875, return:-1.0 %\n"
     ]
    },
    {
     "name": "stderr",
     "output_type": "stream",
     "text": [
      " 12%|█▏        | 71/575 [01:37<19:32,  2.33s/it]"
     ]
    },
    {
     "name": "stdout",
     "output_type": "stream",
     "text": [
      "ENTRY : date:2020-04-17, code:新生銀, buy_entry_price:1260.7686767578125, sma_close_ratio:-5.635441501511017\n",
      "EXIT :date:2020-04-24, code:新生銀, sell_exit_price:1331.30810546875, return:6.0 %\n"
     ]
    },
    {
     "name": "stderr",
     "output_type": "stream",
     "text": [
      " 13%|█▎        | 77/575 [01:39<07:48,  1.06it/s]"
     ]
    },
    {
     "name": "stdout",
     "output_type": "stream",
     "text": [
      "ENTRY : date:2020-04-27, code:スクエニＨＤ, buy_entry_price:4603.55712890625, sma_close_ratio:-5.718349564634738\n",
      "EXIT :date:2020-05-08, code:スクエニＨＤ, sell_exit_price:4653.32568359375, return:1.0 %\n"
     ]
    },
    {
     "name": "stderr",
     "output_type": "stream",
     "text": [
      " 15%|█▍        | 84/575 [01:44<06:55,  1.18it/s]"
     ]
    },
    {
     "name": "stdout",
     "output_type": "stream",
     "text": [
      "ENTRY : date:2020-05-12, code:小林製薬, buy_entry_price:9691.63671875, sma_close_ratio:-6.319163060895628\n",
      "EXIT :date:2020-05-19, code:小林製薬, sell_exit_price:9583.294921875, return:-1.0 %\n"
     ]
    },
    {
     "name": "stderr",
     "output_type": "stream",
     "text": [
      " 16%|█▌        | 91/575 [01:49<06:30,  1.24it/s]"
     ]
    },
    {
     "name": "stdout",
     "output_type": "stream",
     "text": [
      "ENTRY : date:2020-05-21, code:サンドラッグ, buy_entry_price:3271.336669921875, sma_close_ratio:-5.769864773703338\n",
      "EXIT :date:2020-05-28, code:サンドラッグ, sell_exit_price:3534.2119140625, return:8.0 %\n"
     ]
    },
    {
     "name": "stderr",
     "output_type": "stream",
     "text": [
      " 19%|█▊        | 107/575 [02:15<16:56,  2.17s/it]"
     ]
    },
    {
     "name": "stdout",
     "output_type": "stream",
     "text": [
      "ENTRY : date:2020-06-12, code:川崎船, buy_entry_price:980.0, sma_close_ratio:-7.118242515614901\n",
      "EXIT :date:2020-06-19, code:川崎船, sell_exit_price:1140.0, return:16.0 %\n"
     ]
    },
    {
     "name": "stderr",
     "output_type": "stream",
     "text": [
      " 20%|█▉        | 113/575 [02:17<07:08,  1.08it/s]"
     ]
    },
    {
     "name": "stdout",
     "output_type": "stream",
     "text": [
      "ENTRY : date:2020-06-22, code:トプコン, buy_entry_price:863.4725341796875, sma_close_ratio:-6.777121637791284\n",
      "EXIT :date:2020-06-29, code:トプコン, sell_exit_price:858.5157470703125, return:-1.0 %\n"
     ]
    },
    {
     "name": "stderr",
     "output_type": "stream",
     "text": [
      " 21%|██        | 119/575 [02:20<05:02,  1.51it/s]"
     ]
    },
    {
     "name": "stdout",
     "output_type": "stream",
     "text": [
      "ENTRY : date:2020-06-30, code:電通グループ, buy_entry_price:2485.081298828125, sma_close_ratio:-8.323932792411151\n",
      "EXIT :date:2020-07-07, code:電通グループ, sell_exit_price:2490.94677734375, return:0.0 %\n"
     ]
    },
    {
     "name": "stderr",
     "output_type": "stream",
     "text": [
      " 22%|██▏       | 125/575 [02:22<04:07,  1.82it/s]"
     ]
    },
    {
     "name": "stdout",
     "output_type": "stream",
     "text": [
      "ENTRY : date:2020-07-08, code:塩野義薬, buy_entry_price:6044.89501953125, sma_close_ratio:-5.302800441705047\n",
      "EXIT :date:2020-07-15, code:塩野義薬, sell_exit_price:6002.9775390625, return:-1.0 %\n"
     ]
    },
    {
     "name": "stderr",
     "output_type": "stream",
     "text": [
      " 23%|██▎       | 132/575 [02:27<04:46,  1.55it/s]"
     ]
    },
    {
     "name": "stdout",
     "output_type": "stream",
     "text": [
      "ENTRY : date:2020-07-17, code:ネクソン, buy_entry_price:2412.008544921875, sma_close_ratio:-5.208566786563329\n",
      "EXIT :date:2020-07-28, code:ネクソン, sell_exit_price:2490.71484375, return:3.0 %\n"
     ]
    },
    {
     "name": "stderr",
     "output_type": "stream",
     "text": [
      " 24%|██▍       | 139/575 [02:31<05:06,  1.42it/s]"
     ]
    },
    {
     "name": "stdout",
     "output_type": "stream",
     "text": [
      "ENTRY : date:2020-07-30, code:ＺＯＺＯ, buy_entry_price:2811.05224609375, sma_close_ratio:-5.485064862761469\n",
      "EXIT :date:2020-08-06, code:ＺＯＺＯ, sell_exit_price:2771.73681640625, return:-1.0 %\n"
     ]
    },
    {
     "name": "stderr",
     "output_type": "stream",
     "text": [
      " 25%|██▌       | 145/575 [02:34<04:04,  1.76it/s]"
     ]
    },
    {
     "name": "stdout",
     "output_type": "stream",
     "text": [
      "ENTRY : date:2020-08-07, code:ユニチャーム, buy_entry_price:4352.53076171875, sma_close_ratio:-5.054696584498863\n",
      "EXIT :date:2020-08-17, code:ユニチャーム, sell_exit_price:4633.56201171875, return:6.0 %\n"
     ]
    },
    {
     "name": "stderr",
     "output_type": "stream",
     "text": [
      " 27%|██▋       | 154/575 [02:43<07:18,  1.04s/it]"
     ]
    },
    {
     "name": "stdout",
     "output_type": "stream",
     "text": [
      "ENTRY : date:2020-08-21, code:ベイカレント, buy_entry_price:11455.9052734375, sma_close_ratio:-5.643293478848156\n",
      "EXIT :date:2020-08-28, code:ベイカレント, sell_exit_price:11242.982421875, return:-2.0 %\n"
     ]
    },
    {
     "name": "stderr",
     "output_type": "stream",
     "text": [
      " 29%|██▊       | 165/575 [02:59<12:41,  1.86s/it]"
     ]
    },
    {
     "name": "stdout",
     "output_type": "stream",
     "text": [
      "ENTRY : date:2020-09-07, code:日電子, buy_entry_price:2986.925537109375, sma_close_ratio:-6.706021457523438\n",
      "EXIT :date:2020-09-14, code:日電子, sell_exit_price:3210.20068359375, return:7.000000000000001 %\n"
     ]
    },
    {
     "name": "stderr",
     "output_type": "stream",
     "text": [
      " 30%|███       | 173/575 [03:07<09:05,  1.36s/it]"
     ]
    }
   ],
   "source": [
    "\n",
    "# # 単一条件\n",
    "# exit_range = 5\n",
    "# sma = 5\n",
    "# entry_threshold = 0\n",
    "# # try:\n",
    "# print(f'exit_range:{exit_range}, sma:{sma}, entry_threshold:{entry_threshold}')\n",
    "# cumulative_return, possition, buy_entry_prices, sell_entry_prices, buy_exit_prices, sell_exit_prices, entry_history = backtest(df,exit_range,sma,entry_threshold)\n",
    "# df_result =  pd.DataFrame(\n",
    "#     {\n",
    "#         \"cumulative_return\": cumulative_return,\n",
    "#         \"position\": possition,\n",
    "#         \"buy_entry_price\": buy_entry_prices,\n",
    "#         \"sell_entry_price\": sell_entry_prices,\n",
    "#         \"buy_exit_price\": buy_exit_prices,\n",
    "#         \"sell_exit_price\": sell_exit_prices,\n",
    "#     },\n",
    "#     index=df.index\n",
    "# )\n",
    "# entry_history_df = pd.DataFrame(entry_history,\n",
    "#                   columns=['date', 'code', 'buy_entry_price'])\n",
    "\n",
    "# result_dict = evaluation_index(df_result)\n",
    "# plot_entry_history(entry_history_df)\n",
    "\n",
    "for exit_range in [5]:\n",
    "    for sma in [25]:\n",
    "        for entry_threshold in [-5,-15,-20,-35]:\n",
    "            try:\n",
    "                print('==================')\n",
    "                print(f'exit_range:{exit_range}, sma:{sma}, entry_threshold:{entry_threshold}')\n",
    "\n",
    "                cumulative_return, possition, buy_entry_prices, sell_entry_prices, buy_exit_prices, sell_exit_prices, entry_history = backtest(df,exit_range,sma,entry_threshold)\n",
    "                df_result =  pd.DataFrame(\n",
    "                    {\n",
    "                        \"cumulative_return\": cumulative_return,\n",
    "                        \"position\": possition,\n",
    "                        \"buy_entry_price\": buy_entry_prices,\n",
    "                        \"sell_entry_price\": sell_entry_prices,\n",
    "                        \"buy_exit_price\": buy_exit_prices,\n",
    "                        \"sell_exit_price\": sell_exit_prices,\n",
    "                    },\n",
    "                    index=df.index\n",
    "                )\n",
    "                entry_history_df = pd.DataFrame(entry_history,\n",
    "                  columns=['date', 'code', 'buy_entry_price'])\n",
    "\n",
    "                result_dict = evaluation_index(df_result)\n",
    "                # plot_entry_history(entry_history_df)\n",
    "\n",
    "            except:\n",
    "                print('error')\n",
    "                continue\n",
    "\n",
    "\n",
    "df_result['cumulative_return'].plot()\n",
    "plt.title('cumulative_return')\n",
    "plt.show()\n",
    "\n",
    "print('ポジション推移です。変動が細かすぎて青色一色になっていると思います。')\n",
    "print('ちゃんと全ての期間でトレードが発生しているので、正常です。')\n",
    "df_result['position'].plot()\n",
    "plt.title('position')\n",
    "plt.show()\n",
    "\n",
    "print('ポジションの平均の推移です。どちらかに偏りすぎていないかなどを確認できます。')\n",
    "df_result['position'].rolling(1000).mean().plot()\n",
    "plt.title('position_average')\n",
    "plt.show()\n",
    "\n",
    "print('取引量(ポジション差分の絶対値)の累積です。')\n",
    "print('期間によらず傾きがだいたい同じなので、全ての期間でちゃんとトレードが行われていることがわかります。')\n",
    "df_result['position'].diff(1).abs().dropna().cumsum().plot()\n",
    "plt.title('cumulative_position')"
   ]
  }
 ],
 "metadata": {
  "interpreter": {
   "hash": "ee5cc50c724d6faf6aaf85e25f51868628235df2cd334f994047472cde847b3f"
  },
  "kernelspec": {
   "display_name": "Python 3.7.10 ('stock')",
   "language": "python",
   "name": "python3"
  },
  "language_info": {
   "codemirror_mode": {
    "name": "ipython",
    "version": 3
   },
   "file_extension": ".py",
   "mimetype": "text/x-python",
   "name": "python",
   "nbconvert_exporter": "python",
   "pygments_lexer": "ipython3",
   "version": "3.7.10"
  },
  "orig_nbformat": 4
 },
 "nbformat": 4,
 "nbformat_minor": 2
}
